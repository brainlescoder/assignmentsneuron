{
 "cells": [
  {
   "cell_type": "code",
   "execution_count": 1,
   "metadata": {},
   "outputs": [],
   "source": [
    "# question 1.1\n",
    "\n",
    "class Triangle:\n",
    "    def __init__(self):\n",
    "        number_of_sides = ['a','b','c']\n",
    "        self.TriangleSides = number_of_sides\n",
    "        \n",
    "    def sides_Of_Triangle(self):\n",
    "        self.sides_Of_Traingle = [input(\"Enter the Side \"+i+\" :\") for i in self.TriangleSides]\n",
    "        \n",
    "    \n",
    "class Triangle_Area(Triangle):\n",
    "    def __init__(self):\n",
    "        Triangle.__init__(self)\n",
    "        \n",
    "    def area_Of_Triangle(self):\n",
    "        \n",
    "        triangleSides=iter(self.sides_Of_Traingle)\n",
    "        a = float(next(triangleSides))\n",
    "        b = float(next(triangleSides))\n",
    "        c = float(next(triangleSides))      \n",
    "           \n",
    "                \n",
    "        s = (a+ b+ c)*0.5        \n",
    "        # Area of Triangle         \n",
    "        Area = (s*(s-a)*(s-b)*(s-c))**0.5    \n",
    "        print(\"The sides of triangle are a=\"+str(a) +\", b =\"+str(b)+\", c =\"+str(c))     \n",
    "        Area = ('The Area of the triangle is %0.2f' %Area )\n",
    "       \n",
    "        print(Area)"
   ]
  },
  {
   "cell_type": "code",
   "execution_count": 2,
   "metadata": {},
   "outputs": [
    {
     "name": "stdout",
     "output_type": "stream",
     "text": [
      "Enter the Side a :3\n",
      "Enter the Side b :4\n",
      "Enter the Side c :5\n",
      "The sides of triangle are a=3.0, b =4.0, c =5.0\n",
      "The Area of the triangle is 6.00\n"
     ]
    }
   ],
   "source": [
    "Area_Of_Triangle = Triangle_Area()\n",
    "Area_Of_Triangle.sides_Of_Triangle()\n",
    "Area_Of_Triangle.area_Of_Triangle()"
   ]
  },
  {
   "cell_type": "code",
   "execution_count": 3,
   "metadata": {},
   "outputs": [
    {
     "name": "stdout",
     "output_type": "stream",
     "text": [
      "Input:\n",
      "Please enter your words: hello, world, python, data\n",
      "Please enter your number: 3\n",
      "\n",
      " Output:\n",
      "\n",
      " The List of longest words , which  are longer than 3 is :\n"
     ]
    },
    {
     "data": {
      "text/plain": [
       "['hello', 'world', 'python', 'data']"
      ]
     },
     "execution_count": 3,
     "metadata": {},
     "output_type": "execute_result"
    }
   ],
   "source": [
    "# question 1.2\n",
    "\n",
    "def filter_long_words(WordList, n):\n",
    "    \n",
    "    Wordlist=[x.strip() for x in WordList if len(x.strip()) > n]\n",
    "    \n",
    "    if(len(Wordlist) > 0):\n",
    "        print(\"\\n Output:\")\n",
    "        print(\"\\n The List of longest words , which  are longer than \"+str(n)+\" is :\")\n",
    "        return Wordlist\n",
    "    else:\n",
    "        return \"No Words longer than specified number \"+ str(n)\n",
    "    \n",
    "print(\"Input:\")\n",
    "string = input(\"Please enter your words: \")\n",
    "number = int(input(\"Please enter your number: \"))\n",
    "\n",
    "\n",
    "list_Of_Words = list(string.split(\",\"))\n",
    "\n",
    "filter_long_words(list_Of_Words,number)"
   ]
  },
  {
   "cell_type": "code",
   "execution_count": 4,
   "metadata": {},
   "outputs": [
    {
     "name": "stdout",
     "output_type": "stream",
     "text": [
      "Input : Please enter Words : hello, world, python, data\n",
      "Output: Length of Words are : [5, 5, 6, 4]\n"
     ]
    }
   ],
   "source": [
    "# question 2.1\n",
    "\n",
    "def map_Words_to_Length(List):\n",
    "    return list(map(len, List))\n",
    "\n",
    "word_List=list(input(\"Input : Please enter Words : \").split(\",\"))\n",
    "\n",
    "List=[x.strip() for x in word_List]\n",
    "\n",
    "\n",
    "Words_lengths=map_Words_to_Length(List)\n",
    "\n",
    "print(\"Output: Length of Words are :\",Words_lengths )"
   ]
  },
  {
   "cell_type": "code",
   "execution_count": 5,
   "metadata": {},
   "outputs": [
    {
     "name": "stdout",
     "output_type": "stream",
     "text": [
      "Enter character to check that it is Vowel or not\n",
      "Input Value: k\n",
      "Output Value: False\n"
     ]
    }
   ],
   "source": [
    "# question 2.2\n",
    "\n",
    "def vowel_checker(inputChar):\n",
    "    \n",
    "    return_value=''\n",
    "    if(len(inputChar)==1):\n",
    "        vowel_list=['a','e','i','o','u']\n",
    "        if (inputChar.lower() in vowel_list):\n",
    "            return_value= True\n",
    "        else:\n",
    "            return_value= False\n",
    "    else:\n",
    "        return_value=\"Please enter single character only!\"        \n",
    "    return return_value\n",
    "\n",
    "\n",
    "print(\"Enter character to check that it is Vowel or not\")\n",
    "input_value = input(\"Input Value: \")\n",
    "\n",
    "output_value=vowel_checker(input_value) \n",
    "\n",
    "print(\"Output Value:\",output_value)"
   ]
  },
  {
   "cell_type": "code",
   "execution_count": null,
   "metadata": {},
   "outputs": [],
   "source": []
  }
 ],
 "metadata": {
  "kernelspec": {
   "display_name": "Python 3",
   "language": "python",
   "name": "python3"
  },
  "language_info": {
   "codemirror_mode": {
    "name": "ipython",
    "version": 3
   },
   "file_extension": ".py",
   "mimetype": "text/x-python",
   "name": "python",
   "nbconvert_exporter": "python",
   "pygments_lexer": "ipython3",
   "version": "3.7.7"
  }
 },
 "nbformat": 4,
 "nbformat_minor": 4
}
